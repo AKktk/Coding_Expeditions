{
 "cells": [
  {
   "cell_type": "markdown",
   "id": "04828871",
   "metadata": {},
   "source": [
    "### Hypothesis Testing Function\n",
    "\n",
    "This function performs a two-tailed t-test between samples X and Y and outputs confidence and magnitude of hypothesis passing/failing. This test is used to compare the means of two independent groups (samples) that are assumed to be normally distributed.\n",
    "\n",
    "Args:\n",
    "\n",
    "     1. N: Number of data points in each sample.\n",
    "     2. X: Array of floating numbers for sample X.\n",
    "     3. Y: Array of floating numbers for sample Y.\n",
    "     4. confidence_level: Confidence level (between 0 and 1).\n",
    "\n",
    " Returns:\n",
    "\n",
    "A string indicating confidence and magnitude.\n"
   ]
  },
  {
   "cell_type": "code",
   "execution_count": 1,
   "id": "f2e2cdfb",
   "metadata": {},
   "outputs": [],
   "source": [
    "from scipy import stats\n",
    "import numpy as np"
   ]
  },
  {
   "cell_type": "code",
   "execution_count": 2,
   "id": "6a1eee38",
   "metadata": {},
   "outputs": [],
   "source": [
    "#The main function\n",
    "def hypothesis_test(N, X, Y, confidence_level):\n",
    "    # Check if sample sizes are equal\n",
    "    if len(X) != N or len(Y) != N:\n",
    "        return \"Sample sizes must be equal.\"\n",
    "    # Calculate t-statistic\n",
    "    t_stat, p_value = stats.ttest_ind(X, Y)\n",
    "    # Get critical t-value for two-tailed test\n",
    "    \n",
    "    \n",
    "    alpha = 1 - confidence_level\n",
    "    critical_t = stats.t.ppf(1 - alpha / 2, N-1)\n",
    "    # Determine confidence and magnitude (ensure positive magnitude)\n",
    "    # minimum of absolute difference betweent t predicted and critical t at confidence\n",
    "    magnitude = min(abs(t_stat - critical_t), abs(critical_t + t_stat))\n",
    "    \n",
    "    if abs(t_stat) > critical_t:\n",
    "        decision = \"No\"\n",
    "    else:\n",
    "        decision = \"Yes\"\n",
    "    return [decision, magnitude]"
   ]
  },
  {
   "cell_type": "code",
   "execution_count": 3,
   "id": "dacd3bb2",
   "metadata": {},
   "outputs": [],
   "source": [
    "N = 10\n",
    "X = [0.873, 2.817, 0.121, -0.945, -0.055, -1.436, 0.36, -1.478, -1.637, -1.869]\n",
    "Y = [1.142, -0.432, -0.938, -0.729, -0.846, -0.157, 0.5, 1.183, -1.075, -0.169]\n",
    "confidence_level = 0.95"
   ]
  },
  {
   "cell_type": "code",
   "execution_count": 4,
   "id": "3e79fdc7",
   "metadata": {},
   "outputs": [
    {
     "name": "stdout",
     "output_type": "stream",
     "text": [
      "['Yes', 1.936541533991412]\n"
     ]
    }
   ],
   "source": [
    "result = hypothesis_test(N, X, Y, confidence_level)\n",
    "print(result)"
   ]
  },
  {
   "cell_type": "code",
   "execution_count": null,
   "id": "5c11180c",
   "metadata": {},
   "outputs": [],
   "source": []
  }
 ],
 "metadata": {
  "kernelspec": {
   "display_name": "Python 3 (ipykernel)",
   "language": "python",
   "name": "python3"
  },
  "language_info": {
   "codemirror_mode": {
    "name": "ipython",
    "version": 3
   },
   "file_extension": ".py",
   "mimetype": "text/x-python",
   "name": "python",
   "nbconvert_exporter": "python",
   "pygments_lexer": "ipython3",
   "version": "3.10.0"
  }
 },
 "nbformat": 4,
 "nbformat_minor": 5
}
