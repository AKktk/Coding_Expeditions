{
 "cells": [
  {
   "cell_type": "markdown",
   "metadata": {},
   "source": [
    "This function computes the longest shift durations for each nurse in a 2D array.\n",
    " The array is assumed to be in the format [[nurse_code, end_time_of_shift], ...].\n",
    "\n",
    "  Args:\n",
    "      data: A 2D list where each inner list represents a nurse's shift with [nurse_code, end_time].\n",
    "\n",
    "  Returns:\n",
    "      A dictionary where the key is the nurse code and the value is their longest shift duration."
   ]
  },
  {
   "cell_type": "code",
   "execution_count": 10,
   "metadata": {},
   "outputs": [],
   "source": [
    "def ex_test(data):\n",
    "    nurse_shifts = {}\n",
    "    last_end_time = 0\n",
    "    for nurse_code, end_time in data:\n",
    "        nurse_shifts[nurse_code] = end_time - last_end_time\n",
    "        last_end_time = end_time   \n",
    "    return nurse_shifts"
   ]
  },
  {
   "cell_type": "code",
   "execution_count": 3,
   "metadata": {},
   "outputs": [],
   "source": [
    "def longest_shifts_per_nurse(data):\n",
    "    nurse_shifts = {}\n",
    "    last_end_time = 0\n",
    "    for nurse_code, end_time in data:\n",
    "      if nurse_code not in nurse_shifts:\n",
    "         nurse_shifts[nurse_code] = 0\n",
    "      if end_time - last_end_time > nurse_shifts[nurse_code]:\n",
    "         nurse_shifts[nurse_code] = end_time - last_end_time\n",
    "      last_end_time = end_time   \n",
    "    return nurse_shifts"
   ]
  },
  {
   "cell_type": "code",
   "execution_count": 12,
   "metadata": {},
   "outputs": [
    {
     "name": "stdout",
     "output_type": "stream",
     "text": [
      "The longest shifts for each nurses are: {0: 2, 1: 3, 2: 8, 4: 5, 3: 5}\n",
      "The nurse with the longest shift is nurse 2 with a duration of 8 hours\n"
     ]
    }
   ],
   "source": [
    "data = [[0, 2], [1, 5], [2, 8], [4, 12], [3, 17], [2, 25], [4, 30]]\n",
    "longest_durations = ex_test(data)\n",
    "longest_for_nurse = max(longest_durations, key=longest_durations.get)\n",
    "print(f\"The longest shifts for each nurses are: {longest_durations}\")  \n",
    "print(f\"The nurse with the longest shift is nurse {longest_for_nurse} with a duration of {longest_durations[longest_for_nurse]} hours\") "
   ]
  }
 ],
 "metadata": {
  "kernelspec": {
   "display_name": "Python 3",
   "language": "python",
   "name": "python3"
  },
  "language_info": {
   "codemirror_mode": {
    "name": "ipython",
    "version": 3
   },
   "file_extension": ".py",
   "mimetype": "text/x-python",
   "name": "python",
   "nbconvert_exporter": "python",
   "pygments_lexer": "ipython3",
   "version": "3.10.0"
  }
 },
 "nbformat": 4,
 "nbformat_minor": 2
}
