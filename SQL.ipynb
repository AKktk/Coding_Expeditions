{
 "cells": [
  {
   "cell_type": "markdown",
   "metadata": {},
   "source": [
    "## SQL Practice 8 week Challenge with Danny Ma\n",
    "\n",
    "### 1 Danny Diner\n",
    "1.  SELECT dannys_diner.sales.customer_id, SUM(price) AS TotalPrice\n",
    "    FROM dannys_diner.sales\n",
    "    LEFT JOIN dannys_diner.menu ON dannys_diner.sales.product_id = dannys_diner.menu.product_id\n",
    "    GROUP BY customer_id\n",
    "\n",
    "This will give you the total expenditure for each customer. \n",
    "\n",
    "2.  SEL"
   ]
  },
  {
   "cell_type": "markdown",
   "metadata": {},
   "source": []
  }
 ],
 "metadata": {
  "language_info": {
   "name": "python"
  }
 },
 "nbformat": 4,
 "nbformat_minor": 2
}
